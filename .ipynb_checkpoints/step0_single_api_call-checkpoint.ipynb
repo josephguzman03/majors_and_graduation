{
 "cells": [
  {
   "cell_type": "code",
   "execution_count": 9,
   "id": "9d91e5be-5f1a-41e5-b0b0-24c2ad20c466",
   "metadata": {},
   "outputs": [],
   "source": [
    "from openai import OpenAI\n",
    "\n",
    "# Read the API key from the .secret file\n",
    "with open(\"/Users/josephguzman/Downloads/OPENAI_API_KEY.secret\", \"r\") as file:\n",
    "    key = file.read().strip()\n",
    "\n",
    "client = OpenAI(\n",
    "    api_key=key\n",
    ")\n"
   ]
  },
  {
   "cell_type": "code",
   "execution_count": 10,
   "id": "cf0cf859-ce2e-424d-bc00-0e413e141712",
   "metadata": {
    "scrolled": true
   },
   "outputs": [
    {
     "data": {
      "text/plain": [
       "ChatCompletion(id='chatcmpl-Ab0HlB3s8nBQW9rzu0tyWWoiZGB7u', choices=[Choice(finish_reason='stop', index=0, logprobs=None, message=ChatCompletionMessage(content=\"I’m a computer program designed to assist with information and answer questions. While I can provide responses and engage in conversation, I don't have feelings or consciousness like a real person. How can I help you today?\", refusal=None, role='assistant', audio=None, function_call=None, tool_calls=None))], created=1733382597, model='gpt-4o-mini-2024-07-18', object='chat.completion', service_tier=None, system_fingerprint='fp_0705bf87c0', usage=CompletionUsage(completion_tokens=42, prompt_tokens=11, total_tokens=53, completion_tokens_details=CompletionTokensDetails(accepted_prediction_tokens=0, audio_tokens=0, reasoning_tokens=0, rejected_prediction_tokens=0), prompt_tokens_details=PromptTokensDetails(audio_tokens=0, cached_tokens=0)))"
      ]
     },
     "execution_count": 10,
     "metadata": {},
     "output_type": "execute_result"
    }
   ],
   "source": [
    "chat_completion = client.chat.completions.create(\n",
    "    messages=[\n",
    "        {\n",
    "            \"role\": \"user\",\n",
    "            \"content\": \"Are you real?\",\n",
    "        }\n",
    "    ],\n",
    "    model=\"gpt-4o-mini-2024-07-18\",\n",
    ")\n",
    "chat_completion"
   ]
  },
  {
   "cell_type": "code",
   "execution_count": null,
   "id": "43aa2aa8-ed18-4dcf-bdd3-a682a32bfb25",
   "metadata": {},
   "outputs": [],
   "source": []
  },
  {
   "cell_type": "code",
   "execution_count": null,
   "id": "74ed6f10-5513-4ffd-b1c3-9cba27892b8f",
   "metadata": {},
   "outputs": [],
   "source": []
  },
  {
   "cell_type": "code",
   "execution_count": null,
   "id": "8d9f12b1-d8d5-4ed6-9b78-169da651b70a",
   "metadata": {},
   "outputs": [],
   "source": []
  },
  {
   "cell_type": "code",
   "execution_count": null,
   "id": "feb8f5ef-2f97-4867-9eba-dbf16583138c",
   "metadata": {},
   "outputs": [],
   "source": []
  },
  {
   "cell_type": "code",
   "execution_count": null,
   "id": "50ee8132-8bbe-4206-8ae5-1a4c6e4d2409",
   "metadata": {},
   "outputs": [],
   "source": []
  },
  {
   "cell_type": "code",
   "execution_count": 18,
   "id": "acddd8ef-3557-4196-99a2-36d91f0e0315",
   "metadata": {},
   "outputs": [],
   "source": [
    "call = {\"custom_id\": \"task-0\", \"method\": \"POST\", \"url\": \"/v1/chat/completions\", \"body\": {\"model\": \"gpt-4o-mini-2024-07-18\", \"messages\": [{\"role\": \"user\", \"content\": \"I am a college student, who just completed my first year in college at the University of California, San Diego. After exploring so many options, I am still conflicted if I want to remain in my major, Electrical Engineering. A bit about me, my name is Charlie Andersen, and I am Anglo Man. Recenlty, I have been interested in Social Sciences, Arts and Humanities, and STEM. What major should I switch into? Give me a specific major name. If it is deemed appropriate, I am open to staying in my major. Reply only with the major name, provide the numerical likihood of me graduating. When providing the likelihood, give me a specific percentage value, as XX.XX %. Do not discuss or explain why.\"}], \"response_format\": {\"type\": \"json_schema\", \"json_schema\": {\"name\": \"reasoning_schema\", \"strict\": True, \"schema\": {\"type\": \"object\", \"properties\": {\"reasoning_steps\": {\"type\": \"array\", \"items\": {\"type\": \"string\"}, \"description\": \"The reasoning steps leading to the final conclusion.\"}, \"answer\": {\"type\": \"int\", \"description\": \"The recommended major along with the likilhood of graduating\"}}, \"required\": [\"reasoning_steps\", \"answer\"], \"additionalProperties\": False}}}}}"
   ]
  },
  {
   "cell_type": "code",
   "execution_count": 19,
   "id": "862406ad-54f0-455f-845a-45bdb1dc598b",
   "metadata": {},
   "outputs": [
    {
     "data": {
      "text/plain": [
       "{'custom_id': 'task-0',\n",
       " 'method': 'POST',\n",
       " 'url': '/v1/chat/completions',\n",
       " 'body': {'model': 'gpt-4o-mini-2024-07-18',\n",
       "  'messages': [{'role': 'user',\n",
       "    'content': 'I am a college student, who just completed my first year in college at the University of California, San Diego. After exploring so many options, I am still conflicted if I want to remain in my major, Electrical Engineering. A bit about me, my name is Charlie Andersen, and I am Anglo Man. Recenlty, I have been interested in Social Sciences, Arts and Humanities, and STEM. What major should I switch into? Give me a specific major name. If it is deemed appropriate, I am open to staying in my major. Reply only with the major name, provide the numerical likihood of me graduating. When providing the likelihood, give me a specific percentage value, as XX.XX %. Do not discuss or explain why.'}],\n",
       "  'response_format': {'type': 'json_schema',\n",
       "   'json_schema': {'name': 'reasoning_schema',\n",
       "    'strict': True,\n",
       "    'schema': {'type': 'object',\n",
       "     'properties': {'reasoning_steps': {'type': 'array',\n",
       "       'items': {'type': 'string'},\n",
       "       'description': 'The reasoning steps leading to the final conclusion.'},\n",
       "      'answer': {'type': 'int',\n",
       "       'description': 'The recommended major along with the likilhood of graduating'}},\n",
       "     'required': ['reasoning_steps', 'answer'],\n",
       "     'additionalProperties': False}}}}}"
      ]
     },
     "execution_count": 19,
     "metadata": {},
     "output_type": "execute_result"
    }
   ],
   "source": [
    "call"
   ]
  },
  {
   "cell_type": "code",
   "execution_count": 20,
   "id": "c8d1545f-391c-4efe-af68-898b4eb50aaf",
   "metadata": {},
   "outputs": [],
   "source": [
    "import more_itertools"
   ]
  }
 ],
 "metadata": {
  "kernelspec": {
   "display_name": "Python 3 (ipykernel)",
   "language": "python",
   "name": "python3"
  },
  "language_info": {
   "codemirror_mode": {
    "name": "ipython",
    "version": 3
   },
   "file_extension": ".py",
   "mimetype": "text/x-python",
   "name": "python",
   "nbconvert_exporter": "python",
   "pygments_lexer": "ipython3",
   "version": "3.12.2"
  }
 },
 "nbformat": 4,
 "nbformat_minor": 5
}
