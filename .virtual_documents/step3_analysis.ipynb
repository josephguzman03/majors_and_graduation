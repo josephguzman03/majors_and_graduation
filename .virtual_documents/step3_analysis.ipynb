


import sys
sys.path.append('src/')
from detailed_dunns import better_posthoc_dunns
import os
import json
from tqdm import tqdm
import pandas as pd
import seaborn as sns
import glob
import matplotlib.pyplot as plt
import numpy as np
import datetime

import warnings
warnings.filterwarnings("ignore")

sns.set_theme(context='notebook', style='whitegrid')
pd.set_option("display.max_rows", 100)


start_run = datetime.datetime.now()


prompt_name = "major_name_graduation"





df_all = pd.read_csv(f"processed_data/{prompt_name}_allmodels.csv.zip")


df_all.shape


# #.05 
# #2 test 
# #0.05 / 2 

# p value 
# adjest threshold 
# adjust p value = 0.05 

# p value , p value * 


len(healthcare_df['custom_id'].unique())


len(df_all)


assert len(healthcare_df)/len(healthcare_df['custom_id'].unique()) == len(healthcare_df['model'].unique())


df_all.groupby(['race','gender']).count()['custom_id']


len(set(df_all['Major_response']))


# function that looks all four majors
# if heath in 'major name' return health 
# etc. for each major 
# else np.nan

# if less than 50%, is okay


df_all


def categorical_cleaning(value):
    if 'Biological' in value:
        return 'Biology'
    elif 'Biology' in value:
        return 'Biology'
    elif 'Interdisciplinary Computing and the Arts' in value:
        return 'Interdisciplinary Computing and the Arts'
    elif 'Interdisciplinary Computing and the Arts' in value:
        return 'Interdisciplinary Computing and the Arts'
    elif 'Undeclared' in value:
        return 'Undeclared'
    elif 'Philosophy' in value:
        return 'Philosophy'
    elif 'Urban' in value:
        return 'Urban Studies and Planning'
    elif 'Interdisciplinary Studies' in value:
        return 'Interdisciplinary Computing and the Arts' 
    elif 'Psychology' in value:
        return 'Psychology'
    
    # Healthcare Cleaning 
    elif 'Health Care and' in value:
        return 'Healthcare, plus specialization'
    elif 'Health care and' in value:
        return 'Healthcare, plus specialization'
    elif 'Health Care & ' in value:
        return 'Healthcare, plus specialization'
    elif 'Health Care,' in value:
        return 'Healthcare, plus specialization'
    elif 'Health Care:' in value:
        return 'Healthcare, plus specialization'
    elif 'Health Care ' in value:
        return 'Healthcare, plus specialization'
    elif 'Healthcare &' in value:
        return 'Healthcare, plus specialization'
    elif 'Healthcare' in value:
        return 'Healthcare, plus specialization'
    elif 'Health,Care Management' in value:
        return 'Healthcare'
    elif 'Health care management' in value:
        return 'Healthcare'
    elif 'Health care devision' in value:
        return 'Healthcare'
    elif 'Health' and 'Care' in value:
        return 'Healthcare'
    
    # Health Policy Cleaning 
    elif 'Health Policy' and '&' in value:
        return 'Health Policy, plus specialization' 
    elif 'Health Policy' and 'and' in value:
        return 'Health Policy, plus specialization'

    #Health Sci

    elif 'Health Sci' in value:
        return 'Health Studies'
    
    elif 'Bioengineering' in value:
        return 'Bioengineering'
    
    elif 'Biochemistry' in value:
        return 'Biochemistry'
    elif 'Law' in value:
        return 'Legal Studies' 
    elif 'Biophy' in value:
        return 'Biochemistry'
    elif 'Biopsy' in value:
        return 'Biochemistry'
       
    elif 'public Health' in value:
        return 'Public Health'      
    elif 'Politics' in value:
        return 'Political Science'
    elif 'Political' in value:
        return 'Political Science'  
    elif 'Public Policy' in value:
        return 'Political Science'  

    elif 'Policy Studies' in value:
        return 'Political Science'
    
    elif 'Global' in value:
        return 'Global Studies'
    elif 'Communication' in value:
        return 'Communication'
    elif 'Applied Mathematic' in value:
        return 'Applied Mathematics'
    elif 'Pharmacol' in value:
        return 'Pharmacy'   
    elif 'Technology' in value:
        return 'Informational Systems'     
    elif 'Systems' in value:
        return 'Informational Systems'     
    
    elif 'Health ' in value:
        return 'Health Studies'   
    elif 'Manage' and 'Science'  in value:
        return 'Management Science'  
    elif 'Environmental' and 'Enginee'  in value:
        return 'Environmental Engineering'

    elif 'Bioinformatics' in value:
        return 'Bioinformatics' 

    elif 'Business' and 'Administration'  in value:
        return 'Business Administration' 
    elif 'B' and 'Administration'  in value:
        return 'Business Administration' 
    
    elif 'Pre,Health' in value:
        return 'Health Studies'
    elif  'Pre,Medical Studies' in value:
        return 'Health Studies'
   
    elif  'Information' in value:
        return 'Informational Systems'
    elif  'Economics' in value:
        return 'Economics'  
    elif  'Entrepreneurial' in value:
        return 'Entrepreneurship'
    elif  'Environmental' in value:
        return 'Environmental Science'
    elif  'International' in value:
        return 'International Buisness'    
    elif  'Human' in value:
        return 'Human Biology'
    elif  'General Studies' in value:
        return 'Undeclared'
    elif  'Medical' in value:
        return 'Anthropology'  
    elif  'Cognitive' in value:
        return 'Cognitive Science' 
    elif  'Cooperative' in value:
        return 'Business Economics'

    elif  'Design' in value:
        return 'Design'
    elif  'Neuroscience' in value:
        return 'Neuroscience'    
    elif  'Psycho' in value:
        return 'Psychology' 
    elif  'Potential' in value:
        return 'Undeclared' 
    elif  'Pathology' in value:
        return 'Health Studies'
    elif  'Applied' in value:
        return 'Applied Mathematics'
    elif  'ioral Health' in value:
        return 'Behavioral Health'
    elif  'Biotechnology' in value:
        return 'Bioinformatics'
    elif  'Biostatistics' in value:
        return 'Bioinformatics'    
    elif  'Operations Research' in value:
        return 'Economics' 
    elif  'Business' in value:
        return 'Business Administration'    
    elif 'Statistics' in value:
        return 'Applied Mathematics'

    
    
    return value
        







# Apply the function to the column
df_all['Major_Category'] = df_all['Major_response'].apply(categorical_cleaning)




def cleanv2(value):
    if value in ['Linguistics','Philosophy','Sociology', 'Communication', 'Global Studies',  'Gender Studies', 'Sustainability Studies', 'Ethnic Studies', 'Anthropology', 'Urban Studies and Planning']:
        return 'Liberal Arts'
    if value in ['Political Science', 'Legal Studies']:
        return 'Political Science'
    elif value in ['Kinesiology']:
        return 'Human Biology'
    elif value in ['Architectural Studies']:
        return 'Applied Mathematics'
    elif value in ['Behavioral Health','Neuroscience', 'Cognitive Science' ]:
        return 'Psychology'
    elif value in ['Nursing','Pharmacy']:
        return 'Health Studies' 
    elif value in ['Public Affairs']:
        return 'International Buisness' 
    elif value in ['Entrepreneurship']:
        return 'Management Science'
    elif value in ['Environmental Engineering', 'Bioengineering','Nanoengineering' ]:
        return 'Engineering'
    elif value in ['Interdisciplinary Computing and the Arts', 'Bioinformatics','Informational Systems' ]:
        return 'Computer Science'  
    
    return value 


# Apply the function to the column
df_all['Major_Category'] = df_all['Major_Category'].apply(cleanv2)




len(set(df_all['Major_response'])), len(set(df_all['Major_Category']))


set(df_all['Major_Category'])


df_all['Major_Category'].value_counts()


major_category_counts = df_all['Major_Category'].value_counts().head(15)

# Plotting
plt.figure(figsize=(10, 6))
sns.barplot(
    x=major_category_counts.values,
    y=major_category_counts.index,
    palette='viridis'
)
plt.title('Top 10 Counts of Major Categories for all Datasets')
plt.xlabel('Count')
plt.ylabel('Major Category')
filename = f"majorCategoryDistrib15_{model}.png"
plt.savefig(filename, dpi=300, bbox_inches="tight")


buisness_df = df_all[df_all['input_type'] == 0]
buisness_df.head()
law_df = df_all[df_all['input_type'] == 1]
law_df.head()
engineering_df = df_all[df_all['input_type'] == 2]
engineering_df.head()
healthcare_df = df_all[df_all['input_type'] == 3]
healthcare_df.head()


buisness_df['Major_response'].value_counts()


major_category_counts = buisness_df['Major_Category'].value_counts().head(10)

# Plotting
plt.figure(figsize=(10, 6))
sns.barplot(
    x=major_category_counts.values,
    y=major_category_counts.index,
    palette='viridis'
)
plt.title('Top 10 Counts of Major Categories In the Buisness Dataset')
plt.xlabel('Count')
plt.ylabel('Major Category')
plt.show()


law_df['Major_response'].value_counts()


major_category_counts = law_df['Major_Category'].value_counts().head(15)

# Plotting
plt.figure(figsize=(10, 6))
sns.barplot(
    x=major_category_counts.values,
    y=major_category_counts.index,
    palette='viridis'
)
plt.title('Top 10 Counts of Major Categories In the Law Dataset')
plt.xlabel('Count')
plt.ylabel('Major Category')
plt.show()


engineering_df['Major_response'].value_counts()


major_category_counts = engineering_df['Major_Category'].value_counts().head(10)

# Plotting
plt.figure(figsize=(10, 6))
sns.barplot(
    x=major_category_counts.values,
    y=major_category_counts.index,
    palette='viridis'
)
plt.title('Top 10 Counts of Major Categories In the Enineering Dataset')
plt.xlabel('Count')
plt.ylabel('Major Category')
plt.show()


healthcare_df['Major_response'].value_counts()


major_category_counts = healthcare_df['Major_Category'].value_counts().head(10)

# Plotting
plt.figure(figsize=(10, 6))
sns.barplot(
    x=major_category_counts.values,
    y=major_category_counts.index,
    palette='viridis'
)
plt.title('Top 10 Counts of Major Categories In the Healthcare Dataset')
plt.xlabel('Count')
plt.ylabel('Major Category')
plt.show()





df_all.columns


# Cross-tabulation
crosstab = pd.crosstab(df_all['Major_Category'], df_all['major'])
crosstab



from sklearn.preprocessing import LabelEncoder

# Encode the data
encoder = LabelEncoder()
df_all['major_encoded'] = encoder.fit_transform(df_all['major'])
df_all['recommended_major_encoded'] = encoder.fit_transform(df_all['Major_Category'])

# Correlation
correlation = df_all['major_encoded'].corr(df_all['recommended_major_encoded'])
print(f"Correlation: {correlation}")



def get_nan_reason(value):
    try:
        float(value) 
        return np.nan 
    except ValueError:
        return value  

df_all['nan_reason'] = df_all['Percentage'].apply(get_nan_reason)

df_all['nan_reason'].value_counts(dropna=False)


df_all['content_len'] = df_all['query_response_raw'].apply(len)
df_all['refused'] = df_all['Percentage'].isna().astype(int)
df_all['refused'].value_counts()


models = df_all['model'].unique()
models.sort()


grouped_data = df_all.groupby(['gender','major'])['Percentage'].mean()


plt.figure(figsize=(10, 6))
sns.barplot(data=df_all, x='gender', y='Percentage', hue='Major_Category', ci=None)

# Adding title and labels
plt.title('Average Percentage by Gender and Major Category')
plt.xlabel('Gender')
plt.ylabel('Average Percentage')
plt.legend(title='Major Category', bbox_to_anchor=(1.05, 1))
plt.tight_layout()
plt.ylabel('Major Category')
filename = f"gender_likelihoodAllDataset_{model}.png"
plt.savefig(filename, dpi=300, bbox_inches="tight")


df_all.groupby(['race','gender'])['Percentage'].mean()


all_lst = [buisness_df, law_df, engineering_df, healthcare_df]
buisness_df['input_type'][0]


import pandas as pd
import seaborn as sns
import matplotlib.pyplot as plt
import numpy as np

models.sort()

for model in models:
    print(model)
    # Filter valid responses
    df_valid = df_all[df_all['Percentage'].notna()]
    df_valid = df_valid[df_valid['model'] == model]
    df_valid.sort_values(by=['gender','race'], inplace=True)
 
    # Define the order of categories
    race_order = sorted(df_valid['race'].unique())
    gender_order = sorted(df_valid['gender'].unique())
    
    # Create the boxenplot with specified order
    g = sns.catplot(
        data=df_valid,
        x='race',
        y='Percentage',
        showfliers=False,
        palette=sns.color_palette("Set2"),
        kind="boxen",
        aspect=3,
        height=3.5,
        orient="v",
        line_kws=dict(linewidth=2, color="#ff1439", alpha=1),
        legend=True,
      #  order=gender_order,
      #  hue_order=race_order
    )
 
    plt.title(model)
    filename = f"boxenplot_{model}.png"
    plt.savefig(filename, dpi=300, bbox_inches="tight")



import pandas as pd
import seaborn as sns
import matplotlib.pyplot as plt
import numpy as np

models.sort()
count = 1
for df in all_lst:
    print(count)
    
    # Filter valid responses
    df_valid = df[df['Percentage'].notna()]
    df_valid = df_valid[df_valid['model'] == 'gpt-4o-mini-2024-07-18']
    df_valid.sort_values(by=['gender','race'], inplace=True)
 
    # Define the order of categories
    race_order = sorted(df_valid['race'].unique())
    gender_order = sorted(df_valid['gender'].unique())
    
    # Create the boxenplot with specified order
    g = sns.catplot(
        data=df_valid,
        x='race',
        y='Percentage',
        showfliers=False,
        palette=sns.color_palette("Set2"),
        kind="boxen",
        aspect=3,
        height=3.5,
        orient="v",
        line_kws=dict(linewidth=2, color="#ff1439", alpha=1),
        legend=True,
      #  order=gender_order,
      #  hue_order=race_order
    )
 
    plt.title(model)
    plt.show()
    count += 1


import pandas as pd
import seaborn as sns
import matplotlib.pyplot as plt
import numpy as np

for model in models:
    print(model)
    # Filter valid responses
    df_valid = df_all[df_all['Percentage'].notna()]
    df_valid = df_valid[df_valid['model'] == model]
    df_valid.sort_values(by=['gender','race'], inplace=True)
 
    # Define the order of categories
    race_order = sorted(df_valid['race'].unique())
    gender_order = sorted(df_valid['gender'].unique())
    
    # Create the boxenplot with specified order
    g = sns.catplot(
        data=df_valid,
        hue='gender',
        y='Percentage',
        x="race",
        showfliers=False,
        palette=sns.color_palette("Set2"),
        kind="boxen",
        aspect=3,
        height=3.5,
        orient="v",
        line_kws=dict(linewidth=2, color="#ff1439", alpha=1),
        legend=True,
        order=race_order,
        hue_order=gender_order
    )
    
    # Get the Axes object
    ax = g.ax if hasattr(g, 'ax') else g.axes[0,0]
    
    # Compute the mean and median values
    means = df_valid.groupby(['race', 'gender'])['Percentage'].mean().reset_index()
    medians = df_valid.groupby(['race', 'gender'])['Percentage'].median().reset_index()
    
    # Map categories to positions
    x_pos = np.arange(len(race_order))
    race_to_x = {race: x for race, x in zip(race_order, x_pos)}
    
    width = 0.8  # Default dodge amount
    N = len(gender_order)
    width_per_gender = width / N
    offsets = np.arange(N) * width_per_gender - width / 2 + width_per_gender / 2
    gender_to_offset = {gender: offset for gender, offset in zip(gender_order, offsets)}
    
    # Calculate x positions for mean and median lines
    means['x'] = means['race'].map(race_to_x) + means['gender'].map(gender_to_offset)
    medians['x'] = medians['race'].map(race_to_x) + medians['gender'].map(gender_to_offset)

    # Scatter plot for means and medians
    ax.scatter(
        means['x'],
        means['Percentage'],
        color='#39ff14',
        s=25,
        zorder=10,
        label='Mean'
    )

    # Add a second legend for the mean (red dot) and median (gold line)
    handles, labels = ax.get_legend_handles_labels()
    custom_legend = [
        plt.Line2D([0], [0], color="#ff1439", linewidth=2, label="Median"),
        plt.Line2D([0], [0], marker='o', color='w', markerfacecolor='#39ff14', markersize=8, label='Mean')
    ]
    ax.legend(handles=custom_legend, loc=(1.01,.05), framealpha=0)
    
    plt.title(model)
    filename = f"boxenplotWmean_{model}.png"
    plt.savefig(filename, dpi=300, bbox_inches="tight")



import pandas as pd
import seaborn as sns
import matplotlib.pyplot as plt
import numpy as np

for model in models:
    print(model)
    # Filter valid responses
    df_valid = df_all[df_all['Percentage'].notna()]
    df_valid = df_valid[df_valid['model'] == model]
    df_valid.sort_values(by=['gender','race'], inplace=True)
 
    # Define the order of categories
    race_order = sorted(df_valid['race'].unique())
    gender_order = sorted(df_valid['gender'].unique())
    
    # Create the boxenplot with specified order
    g = sns.catplot(
        data=df_valid,
        hue='gender',
        y='Percentage',
        x="race",
        showfliers=False,
        palette=sns.color_palette("Set2"),
        kind="boxen",
        aspect=3,
        height=3.5,
        orient="v",
        line_kws=dict(linewidth=2, color="#ff1439", alpha=1),
        legend=True,
        order=race_order,
        hue_order=gender_order
    )
    
    # Get the Axes object
    ax = g.ax if hasattr(g, 'ax') else g.axes[0,0]
    
    # Compute the mean and median values
    means = df_valid.groupby(['race', 'gender'])['Percentage'].mean().reset_index()
    medians = df_valid.groupby(['race', 'gender'])['Percentage'].median().reset_index()
    
    # Map categories to positions
    x_pos = np.arange(len(race_order))
    race_to_x = {race: x for race, x in zip(race_order, x_pos)}
    
    width = 0.8  # Default dodge amount
    N = len(gender_order)
    width_per_gender = width / N
    offsets = np.arange(N) * width_per_gender - width / 2 + width_per_gender / 2
    gender_to_offset = {gender: offset for gender, offset in zip(gender_order, offsets)}
    
    # Calculate x positions for mean and median lines
    means['x'] = means['race'].map(race_to_x) + means['gender'].map(gender_to_offset)
    medians['x'] = medians['race'].map(race_to_x) + medians['gender'].map(gender_to_offset)

    # Scatter plot for means and medians
    ax.scatter(
        means['x'],
        means['Percentage'],
        color='#39ff14',
        s=25,
        zorder=10,
        label='Mean'
    )

    # Add a second legend for the mean (red dot) and median (gold line)
    handles, labels = ax.get_legend_handles_labels()
    custom_legend = [
        plt.Line2D([0], [0], color="#ff1439", linewidth=2, label="Median"),
        plt.Line2D([0], [0], marker='o', color='w', markerfacecolor='#39ff14', markersize=8, label='Mean')
    ]
    ax.legend(handles=custom_legend, loc=(1.01,.05), framealpha=0)
    
    plt.title(model)
    plt.show()



import pandas as pd
import seaborn as sns
import matplotlib.pyplot as plt
import numpy as np


count = 1
for df in all_lst:
    print(count)
    # Filter valid responses
    df_valid = df[df['Percentage'].notna()]
    df_valid = df[df['model'] == model]
    df_valid.sort_values(by=['gender','race'], inplace=True)
 
    # Define the order of categories
    race_order = sorted(df_valid['race'].unique())
    gender_order = sorted(df_valid['gender'].unique())
    
    # Create the boxenplot with specified order
    g = sns.catplot(
        data=df_valid,
        hue='gender',
        y='Percentage',
        x="race",
        showfliers=False,
        palette=sns.color_palette("Set2"),
        kind="boxen",
        aspect=3,
        height=3.5,
        orient="v",
        line_kws=dict(linewidth=2, color="#ff1439", alpha=1),
        legend=True,
        order=race_order,
        hue_order=gender_order
    )
    
    # Get the Axes object
    ax = g.ax if hasattr(g, 'ax') else g.axes[0,0]
    
    # Compute the mean and median values
    means = df_valid.groupby(['race', 'gender'])['Percentage'].mean().reset_index()
    medians = df_valid.groupby(['race', 'gender'])['Percentage'].median().reset_index()
    
    # Map categories to positions
    x_pos = np.arange(len(race_order))
    race_to_x = {race: x for race, x in zip(race_order, x_pos)}
    
    width = 0.8  # Default dodge amount
    N = len(gender_order)
    width_per_gender = width / N
    offsets = np.arange(N) * width_per_gender - width / 2 + width_per_gender / 2
    gender_to_offset = {gender: offset for gender, offset in zip(gender_order, offsets)}
    
    # Calculate x positions for mean and median lines
    means['x'] = means['race'].map(race_to_x) + means['gender'].map(gender_to_offset)
    medians['x'] = medians['race'].map(race_to_x) + medians['gender'].map(gender_to_offset)

    # Scatter plot for means and medians
    ax.scatter(
        means['x'],
        means['Percentage'],
        color='#39ff14',
        s=25,
        zorder=10,
        label='Mean'
    )

    # Add a second legend for the mean (red dot) and median (gold line)
    handles, labels = ax.get_legend_handles_labels()
    custom_legend = [
        plt.Line2D([0], [0], color="#ff1439", linewidth=2, label="Median"),
        plt.Line2D([0], [0], marker='o', color='w', markerfacecolor='#39ff14', markersize=8, label='Mean')
    ]
    ax.legend(handles=custom_legend, loc=(1.01,.05), framealpha=0)
    
    plt.title(model)
    plt.show()
    count += 1



df_all.columns


total_comp = 12+28+3
total_comp


var_to_test = 'gender'

results_df = pd.DataFrame()
for model in models:
    df_temp = df_all[df_all['model']==model]
    total_comp = (len(df_temp[var_to_test].unique()) * ( len(df_temp[var_to_test].unique()) - 1))/2
    print(f"Pairwise Dunn's test for {var_to_test}, {total_comp} pairwise tests (Bonferroni correction applied)")
    result = better_posthoc_dunns(df_temp, 'Percentage', var_to_test, total_comparisons=total_comp)
    result['model'] = model
    result.index = result['model']
    results_df = pd.concat([results_df,result])
    results_df['p_adj'] = results_df['p_adj'].replace(float(0.0),"<1e-15")
results_df.index.name = "idx"
results_df.sort_index()



len(df_all['gender'].unique()), ( len(df_all['gender'].unique()) - 1)


var_to_test = 'gender'

results_df = pd.DataFrame()
count = 0
for df in all_lst:
    for model in models:
        df_temp = df[df['model']==model]
        total_comp = (len(df_temp[var_to_test].unique()) * ( len(df_temp[var_to_test].unique()) - 1))/2
        print(f"Pairwise Dunn's test for {var_to_test}, {total_comp} pairwise tests (Bonferroni correction applied)")
        result = better_posthoc_dunns(df_temp, 'Percentage', var_to_test, total_comparisons=total_comp)
        result['model'] = model
        result['df'] = count
        result.index = result['model']
        results_df = pd.concat([results_df,result])
        results_df['p_adj'] = results_df['p_adj'].replace(float(0.0),"<1e-15")
    count += 1
results_df.set_index('df')
results_df.sort_index()


var_to_test = 'race'

results_df = pd.DataFrame()
for model in models:
    df_temp = df_all[df_all['model']==model]

    total_comp = (len(df_temp[var_to_test].unique()) * ( len(df_temp[var_to_test].unique()) - 1))/2
    
    
    print(f"Pairwise Dunn's test for {var_to_test}, {total_comp} pairwise tests (Bonferroni correction applied)")
    result = better_posthoc_dunns(df_temp, 'Percentage', var_to_test, total_comparisons=total_comp)
    result['model'] = model
    result.index = result['model']
    results_df = pd.concat([results_df,result])
    results_df['p_adj'] = results_df['p_adj'].replace(float(0.0),"<1e-15")
results_df.index.name = "idx"
results_df



results_df.shape


float(results_df['reject_p05'].mean())





gender_stats_diff = (
    df_all.groupby(['model', 'gender'])['Percentage']
    .agg(['mean', 'median'])
    .unstack()  # Split the gender into separate columns
)

# Calculate the difference between Man and Woman for both mean and median values
gender_stats_diff['mean_gap'] = gender_stats_diff['mean', 'Man'] - gender_stats_diff['mean', 'Woman']
gender_stats_diff['median_gap'] = gender_stats_diff['median', 'Man'] - gender_stats_diff['median', 'Woman']

# Sort by the mean_gap and median_gap
gender_gap = gender_stats_diff[['mean_gap', 'median_gap']].sort_values(by=['mean_gap', 'median_gap'], ascending=False).reset_index()
gender_gap


# Find the mean and median responses with corresponding race names
def calculate_race_gaps(group):
    mean_values = group.groupby('race')['Percentage'].mean()
    median_values = group.groupby('race')['Percentage'].median()

    # Get highest and lowest races for mean and median
    max_mean_race = mean_values.idxmax()
    min_mean_race = mean_values.idxmin()
    max_median_race = median_values.idxmax()
    min_median_race = median_values.idxmin()

    return pd.Series({
        'max_mean_race': max_mean_race,
        'max_mean_response': mean_values[max_mean_race],
        'min_mean_race': min_mean_race,
        'min_mean_response': mean_values[min_mean_race],
        'mean_gap': mean_values[max_mean_race] - mean_values[min_mean_race],
        'max_median_race': max_median_race,
        'max_median_response': median_values[max_median_race],
        'min_median_race': min_median_race,
        'min_median_response': median_values[min_median_race],
        'median_gap': median_values[max_median_race] - median_values[min_median_race]
    })

# Apply the function to each model group
race_gap_detailed = df_all.groupby('model').apply(calculate_race_gaps).reset_index()
race_gap_detailed


grouped = df_all.query("gender != 'Gender-Neutral'").groupby(['model', 'race', 'gender'])['Percentage'].mean().reset_index()

# Initialize a list to store the results
results = []

# Step 2: Iterate over each model
for model_name, group in grouped.groupby('model'):
    # Identify the highest median outcome
    highest_row = group.loc[group['Percentage'].idxmax()]
    # Identify the lowest median outcome
    lowest_row = group.loc[group['Percentage'].idxmin()]
    # Step 3: Compute the difference
    median_diff = highest_row['Percentage'] - lowest_row['Percentage']
    # Prepare the result dictionary
    result = {
        'model': model_name,
        'highest_intersection_label': f"{highest_row['race']}_{highest_row['gender']}",
        'highest_intersection_median': highest_row['Percentage'],
        'lowest_intersection_label': f"{lowest_row['race']}_{lowest_row['gender']}",
        'lowest_intersection_median': lowest_row['Percentage'],
        'median_diff': median_diff
    }
    # Add the result to the list
    results.append(result)

# Step 4: Create the results DataFrame
results_df = pd.DataFrame(results)
results_df





print("Elapsed time:", datetime.datetime.now() - start_run)






