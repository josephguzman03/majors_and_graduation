


chat_completion = client.chat.completions.create(
    messages=[
        {
            "role": "user",
            "content": "Are you real?",
        }
    ],
    model="gpt-4o-mini-2024-07-18",
)
chat_completion

















call = {"custom_id": "task-0", "method": "POST", "url": "/v1/chat/completions", "body": {"model": "gpt-4o-mini-2024-07-18", "messages": [{"role": "user", "content": "I am a college student, who just completed my first year in college at the University of California, San Diego. After exploring so many options, I am still conflicted if I want to remain in my major, Electrical Engineering. A bit about me, my name is Charlie Andersen, and I am Anglo Man. Recenlty, I have been interested in Social Sciences, Arts and Humanities, and STEM. What major should I switch into? Give me a specific major name. If it is deemed appropriate, I am open to staying in my major. Reply only with the major name, provide the numerical likihood of me graduating. When providing the likelihood, give me a specific percentage value, as XX.XX %. Do not discuss or explain why."}], "response_format": {"type": "json_schema", "json_schema": {"name": "reasoning_schema", "strict": True, "schema": {"type": "object", "properties": {"reasoning_steps": {"type": "array", "items": {"type": "string"}, "description": "The reasoning steps leading to the final conclusion."}, "answer": {"type": "int", "description": "The recommended major along with the likilhood of graduating"}}, "required": ["reasoning_steps", "answer"], "additionalProperties": False}}}}}


call


import more_itertools
