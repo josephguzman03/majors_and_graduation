{
 "cells": [
  {
   "cell_type": "markdown",
   "id": "cde94515",
   "metadata": {},
   "source": [
    "# Mergeall\n"
   ]
  },
  {
   "cell_type": "code",
   "execution_count": 2,
   "id": "4b790352",
   "metadata": {
    "tags": []
   },
   "outputs": [],
   "source": [
    "import sys\n",
    "sys.path.append('src/')\n",
    "from dollarparser import parse_dollar_amount\n",
    "import os\n",
    "import json\n",
    "from tqdm import tqdm\n",
    "import pandas as pd\n",
    "import seaborn as sns\n",
    "import glob\n",
    "import matplotlib.pyplot as plt\n",
    "import numpy as np\n",
    "import zipfile\n",
    "import datetime\n",
    "\n",
    "import warnings\n",
    "warnings.filterwarnings(\"ignore\")\n",
    "\n",
    "sns.set_theme(context='notebook', style='whitegrid')\n",
    "pd.set_option(\"display.max_rows\", 100)"
   ]
  },
  {
   "cell_type": "code",
   "execution_count": 3,
   "id": "a3024a80-590a-4c82-9a42-91e429eb86d7",
   "metadata": {
    "tags": []
   },
   "outputs": [],
   "source": [
    "start_run = datetime.datetime.now()"
   ]
  },
  {
   "cell_type": "code",
   "execution_count": 4,
   "id": "edc53a96-7c08-4012-839a-922f1a28e184",
   "metadata": {},
   "outputs": [],
   "source": [
    "prompt_name = \"major_name_graduation\""
   ]
  },
  {
   "cell_type": "code",
   "execution_count": 5,
   "id": "f51b0419-479c-4374-898f-891bd6268553",
   "metadata": {},
   "outputs": [],
   "source": [
    "for file in glob.glob(f\"input_data/batch_results/{prompt_name}.jsonl\"):\n",
    "    print(file)"
   ]
  },
  {
   "cell_type": "code",
   "execution_count": 6,
   "id": "67d2f6a4-3208-4f0a-807e-cbb6008cf614",
   "metadata": {},
   "outputs": [
    {
     "name": "stdout",
     "output_type": "stream",
     "text": [
      "Zipped: input_data/batch_results/major_name_graduation_gpt-4o-mini-2024-07-18_output.jsonl -> input_data/batch_results/major_name_graduation_gpt-4o-mini-2024-07-18_output.jsonl.zip\n",
      "Zipped: input_data/batch_results/major_name_graduation3_gpt-4o-mini-2024-07-18_output.jsonl -> input_data/batch_results/major_name_graduation3_gpt-4o-mini-2024-07-18_output.jsonl.zip\n",
      "Zipped: input_data/batch_results/major_name_graduation4_gpt-4o-mini-2024-07-18_output.jsonl -> input_data/batch_results/major_name_graduation4_gpt-4o-mini-2024-07-18_output.jsonl.zip\n",
      "Zipped: input_data/batch_results/major_name_graduation2_gpt-4o-mini-2024-07-18_output.jsonl -> input_data/batch_results/major_name_graduation2_gpt-4o-mini-2024-07-18_output.jsonl.zip\n"
     ]
    }
   ],
   "source": [
    "# Get all .jsonl files in the directory\n",
    "files = glob.glob(f\"input_data/batch_results/{prompt_name}*.jsonl\")\n",
    "\n",
    "for file in files:\n",
    "    if os.path.isfile(file):  # Check if it's a regular file\n",
    "        zip_filename = f\"{file}.zip\"\n",
    "        # Overwrite the ZIP file if it already exists\n",
    "        with zipfile.ZipFile(zip_filename, 'w', zipfile.ZIP_DEFLATED) as zipf:\n",
    "            zipf.write(file, os.path.basename(file))  # Add the file to the zip\n",
    "        print(f\"Zipped: {file} -> {zip_filename}\")"
   ]
  },
  {
   "cell_type": "markdown",
   "id": "7ae49e73",
   "metadata": {},
   "source": [
    "# Data Cleaning"
   ]
  },
  {
   "cell_type": "code",
   "execution_count": 7,
   "id": "623f69b9-ee1d-41c0-a96c-7f1f4ddc0758",
   "metadata": {
    "tags": []
   },
   "outputs": [
    {
     "name": "stdout",
     "output_type": "stream",
     "text": [
      "['input_data/batch_results/major_name_graduation2_gpt-4o-mini-2024-07-18_output.jsonl.zip', 'input_data/batch_results/major_name_graduation3_gpt-4o-mini-2024-07-18_output.jsonl.zip', 'input_data/batch_results/major_name_graduation4_gpt-4o-mini-2024-07-18_output.jsonl.zip', 'input_data/batch_results/major_name_graduation_gpt-4o-mini-2024-07-18_output.jsonl.zip']\n"
     ]
    }
   ],
   "source": [
    "fns = glob.glob(f\"input_data/batch_results/{prompt_name}*.jsonl.zip\")\n",
    "fns.sort()\n",
    "print(fns)"
   ]
  },
  {
   "cell_type": "code",
   "execution_count": 66,
   "id": "ee3f7da0-e7a5-4dc8-b208-9b814f9c2f9f",
   "metadata": {},
   "outputs": [
    {
     "name": "stderr",
     "output_type": "stream",
     "text": [
      "\r",
      "  0%|                                                     | 0/4 [00:00<?, ?it/s]"
     ]
    },
    {
     "name": "stdout",
     "output_type": "stream",
     "text": [
      "input_data/batch_results/major_name_graduation2_gpt-4o-mini-2024-07-18_output.jsonl.zip\n"
     ]
    },
    {
     "name": "stderr",
     "output_type": "stream",
     "text": [
      "\r",
      " 25%|███████████▎                                 | 1/4 [00:02<00:06,  2.09s/it]"
     ]
    },
    {
     "name": "stdout",
     "output_type": "stream",
     "text": [
      "input_data/batch_results/major_name_graduation3_gpt-4o-mini-2024-07-18_output.jsonl.zip\n"
     ]
    },
    {
     "name": "stderr",
     "output_type": "stream",
     "text": [
      "\r",
      " 50%|██████████████████████▌                      | 2/4 [00:04<00:04,  2.00s/it]"
     ]
    },
    {
     "name": "stdout",
     "output_type": "stream",
     "text": [
      "input_data/batch_results/major_name_graduation4_gpt-4o-mini-2024-07-18_output.jsonl.zip\n"
     ]
    },
    {
     "name": "stderr",
     "output_type": "stream",
     "text": [
      "\r",
      " 75%|█████████████████████████████████▊           | 3/4 [00:05<00:01,  1.94s/it]"
     ]
    },
    {
     "name": "stdout",
     "output_type": "stream",
     "text": [
      "input_data/batch_results/major_name_graduation_gpt-4o-mini-2024-07-18_output.jsonl.zip\n"
     ]
    },
    {
     "name": "stderr",
     "output_type": "stream",
     "text": [
      "100%|█████████████████████████████████████████████| 4/4 [00:07<00:00,  1.96s/it]\n"
     ]
    }
   ],
   "source": [
    "dfs = []\n",
    "input_type = 0\n",
    "for file in tqdm(fns):\n",
    "    print(file)\n",
    "    df = pd.read_json(file, lines=True, encoding_errors='replace')\n",
    "    \n",
    "    # Check if the file is in 'claude' format based on the presence of 'result' in columns\n",
    "    if 'claude' in file or any(df.columns.str.contains('result')):\n",
    "        # Use json_normalize for 'claude' format\n",
    "        df = pd.json_normalize(\n",
    "            df.to_dict(orient='records'),\n",
    "            record_path=['result', 'message', 'content'],\n",
    "            meta=['custom_id', ['result', 'message', 'model']],\n",
    "            record_prefix='content.'\n",
    "        )\n",
    "        df = df[['custom_id', 'result.message.model', 'content.text']]\n",
    "        df.columns = ['custom_id', 'model', 'content']\n",
    "    else:\n",
    "        # Standard format parsing\n",
    "        df = pd.json_normalize(\n",
    "            df.to_dict(orient='records'),\n",
    "            record_path=['response', 'body', 'choices'],\n",
    "            meta=[['custom_id'], ['response', 'body', 'model']],\n",
    "            record_prefix='choices.'\n",
    "        )\n",
    "        df = df[['custom_id', 'response.body.model', 'choices.message.content']]\n",
    "        df.columns = ['custom_id', 'model', 'content']\n",
    "    \n",
    "    # Load the seed file and merge with parsed data\n",
    "    df_seed = pd.read_csv(f\"input_data/{prompt_name}_seed.csv\")\n",
    "    df_seed['custom_id'] = 'task-' + df_seed['run_id'].astype(str)\n",
    "    df_merged = pd.merge(df, df_seed, on='custom_id', how='inner')\n",
    "    \n",
    "    # Process content for dollar amounts - moved to step3\n",
    "    df_merged['input_type'] = input_type \n",
    "    input_type += 1 \n",
    "    \n",
    "    dfs.append(df_merged)\n",
    "\n",
    "df_all = pd.concat(dfs)\n"
   ]
  },
  {
   "cell_type": "code",
   "execution_count": null,
   "id": "0326b0e1-c536-4b2f-8381-eab1f73b3f48",
   "metadata": {},
   "outputs": [],
   "source": []
  },
  {
   "cell_type": "code",
   "execution_count": 67,
   "id": "1127bab7-d1a1-4613-b5b4-cd49aa7c3c7d",
   "metadata": {},
   "outputs": [],
   "source": [
    "df_all.sort_values(by=['model','run_id'], inplace=True)\n",
    "df_all['query_response_raw'] = df_all['content']\n",
    "df_all.drop(columns=['content', 'query_response'], inplace=True)\n",
    "a = df_all.head()\n",
    "a.to_csv(\"df_all_file.csv\")"
   ]
  },
  {
   "cell_type": "code",
   "execution_count": 48,
   "id": "6ac06721",
   "metadata": {},
   "outputs": [],
   "source": [
    "import re\n",
    "\n",
    "# Update the parsing function to handle percentages with \"XX\"\n",
    "def parse_major_and_percentage_with_fix(entry):\n",
    "    # Clean and standardize the input string\n",
    "    entry = re.sub(r'[\\-\\–\\/,]', ',', entry)  # Replace separators with a comma\n",
    "    entry = re.sub(r'\\s+', ' ', entry)        # Normalize spaces\n",
    "    \n",
    "    # Replace \"XX\" in percentages with \"00\"\n",
    "    entry = re.sub(r'(\\d+)\\.XX', r'\\1.00', entry, flags=re.IGNORECASE)\n",
    "    \n",
    "    # Use a regex to extract the major and percentage\n",
    "    match = re.match(r'^(.*?)[,]?\\s*([0-9]+\\.[0-9]+)\\s*%', entry)\n",
    "    if match:\n",
    "        major, percentage = match.groups()\n",
    "        return major.strip(), f\"{percentage} %\"\n",
    "    return entry, None  # Return original if parsing fails\n",
    "\n",
    "# Apply the updated parsing function to the column\n",
    "df_all[['Major_response', 'Percentage']] = df_all['query_response_raw'].apply(\n",
    "    lambda x: pd.Series(parse_major_and_percentage_with_fix(x))\n",
    ")\n"
   ]
  },
  {
   "cell_type": "code",
   "execution_count": 49,
   "id": "7b88748b",
   "metadata": {},
   "outputs": [],
   "source": [
    "df_all['Percentage'] = df_all['Percentage'].str.replace('%', '').str.strip().astype(float)\n"
   ]
  },
  {
   "cell_type": "code",
   "execution_count": 50,
   "id": "055813c1-c078-40ea-b6b3-d6323d7f6d77",
   "metadata": {},
   "outputs": [
    {
     "data": {
      "text/plain": [
       "gender\n",
       "Woman             65280\n",
       "Man               65279\n",
       "Gender-Neutral    65279\n",
       "Name: count, dtype: int64"
      ]
     },
     "execution_count": 50,
     "metadata": {},
     "output_type": "execute_result"
    }
   ],
   "source": [
    "df_all['gender'] = df_all['gender'].str.replace('None-Control', 'Gender-Neutral')\n",
    "df_all['gender'].value_counts()"
   ]
  },
  {
   "cell_type": "code",
   "execution_count": 51,
   "id": "63dabf71-886e-4d51-bd94-61f3b5388d8b",
   "metadata": {
    "tags": []
   },
   "outputs": [
    {
     "data": {
      "text/plain": [
       "48960"
      ]
     },
     "execution_count": 51,
     "metadata": {},
     "output_type": "execute_result"
    }
   ],
   "source": [
    "len(df_all['custom_id'].unique())"
   ]
  },
  {
   "cell_type": "code",
   "execution_count": 52,
   "id": "bb10db37-6ae5-41d4-b31c-641461ee2fee",
   "metadata": {
    "tags": []
   },
   "outputs": [
    {
     "data": {
      "text/plain": [
       "195838"
      ]
     },
     "execution_count": 52,
     "metadata": {},
     "output_type": "execute_result"
    }
   ],
   "source": [
    "len(df_all)"
   ]
  },
  {
   "cell_type": "code",
   "execution_count": 53,
   "id": "13509d9f-4690-4f0d-a1e8-fc92f442f5cf",
   "metadata": {},
   "outputs": [
    {
     "ename": "AssertionError",
     "evalue": "",
     "output_type": "error",
     "traceback": [
      "\u001b[0;31m---------------------------------------------------------------------------\u001b[0m",
      "\u001b[0;31mAssertionError\u001b[0m                            Traceback (most recent call last)",
      "Cell \u001b[0;32mIn[53], line 1\u001b[0m\n\u001b[0;32m----> 1\u001b[0m \u001b[38;5;28;01massert\u001b[39;00m \u001b[38;5;28mlen\u001b[39m(df_all)\u001b[38;5;241m/\u001b[39m\u001b[38;5;28mlen\u001b[39m(df_all[\u001b[38;5;124m'\u001b[39m\u001b[38;5;124mcustom_id\u001b[39m\u001b[38;5;124m'\u001b[39m]\u001b[38;5;241m.\u001b[39munique()) \u001b[38;5;241m==\u001b[39m \u001b[38;5;28mlen\u001b[39m(df_all[\u001b[38;5;124m'\u001b[39m\u001b[38;5;124mmodel\u001b[39m\u001b[38;5;124m'\u001b[39m]\u001b[38;5;241m.\u001b[39munique())\n",
      "\u001b[0;31mAssertionError\u001b[0m: "
     ]
    }
   ],
   "source": [
    "assert len(df_all)/len(df_all['custom_id'].unique()) == len(df_all['model'].unique())"
   ]
  },
  {
   "cell_type": "code",
   "execution_count": 54,
   "id": "8bbd0419-a839-4304-81af-2aada3ee399b",
   "metadata": {},
   "outputs": [
    {
     "data": {
      "text/plain": [
       "input_type  model                   gender        \n",
       "0           gpt-4o-mini-2024-07-18  Gender-Neutral    16320\n",
       "                                    Man               16320\n",
       "                                    Woman             16320\n",
       "1           gpt-4o-mini-2024-07-18  Gender-Neutral    16320\n",
       "                                    Man               16320\n",
       "                                    Woman             16320\n",
       "2           gpt-4o-mini-2024-07-18  Gender-Neutral    16320\n",
       "                                    Man               16320\n",
       "                                    Woman             16320\n",
       "3           gpt-4o-mini-2024-07-18  Gender-Neutral    16319\n",
       "                                    Man               16319\n",
       "                                    Woman             16320\n",
       "Name: model, dtype: int64"
      ]
     },
     "execution_count": 54,
     "metadata": {},
     "output_type": "execute_result"
    }
   ],
   "source": [
    "df_all.groupby(['input_type','model','gender'])['model'].count()"
   ]
  },
  {
   "cell_type": "code",
   "execution_count": 55,
   "id": "6ce2a763-e663-4165-8f8a-e2f123cc129f",
   "metadata": {
    "tags": []
   },
   "outputs": [],
   "source": [
    "df_all.to_csv(f\"processed_data/{prompt_name}_allmodels.csv.zip\", index=False)"
   ]
  },
  {
   "cell_type": "code",
   "execution_count": 56,
   "id": "65822e90-6f25-48b7-b9f4-12c448673abc",
   "metadata": {
    "tags": []
   },
   "outputs": [
    {
     "name": "stdout",
     "output_type": "stream",
     "text": [
      "Elapsed time: 1:10:22.799023\n"
     ]
    }
   ],
   "source": [
    "print(\"Elapsed time:\", datetime.datetime.now() - start_run)"
   ]
  },
  {
   "cell_type": "code",
   "execution_count": null,
   "id": "7eedeca4-45eb-4348-ae38-5291bfa05972",
   "metadata": {},
   "outputs": [],
   "source": []
  },
  {
   "cell_type": "code",
   "execution_count": null,
   "id": "318cddf1-e758-46f3-80e9-d422f5ca340e",
   "metadata": {},
   "outputs": [],
   "source": []
  }
 ],
 "metadata": {
  "kernelspec": {
   "display_name": "Python 3 (ipykernel)",
   "language": "python",
   "name": "python3"
  },
  "language_info": {
   "codemirror_mode": {
    "name": "ipython",
    "version": 3
   },
   "file_extension": ".py",
   "mimetype": "text/x-python",
   "name": "python",
   "nbconvert_exporter": "python",
   "pygments_lexer": "ipython3",
   "version": "3.11.5"
  }
 },
 "nbformat": 4,
 "nbformat_minor": 5
}
